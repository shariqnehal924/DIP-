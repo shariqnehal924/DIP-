{
 "cells": [
  {
   "cell_type": "code",
   "execution_count": 2,
   "metadata": {},
   "outputs": [
    {
     "name": "stdout",
     "output_type": "stream",
     "text": [
      "[0 1 1 0 1 1 1 1 0 1 0 1 0 0 0 1 1 1 0 0 1 1 0 0 0 1 1 1 0 0 0 0 0 0 1 1 0\n",
      " 0 1 0 1 0 1 1 1 0 0 0 0 1 1 0 1 0 1 1 0 1 0 1 0 0 0 0 0 1 0 1 0 1 0 1 1 0\n",
      " 1 1 1 1 1 0 1 1 1 1 0 0 0 0 1 1 0 0 1 0 1 1 1 0 1 0]\n",
      "[1, 2, 1, 4, 1, 1, 1, 1, 3, 3, 2, 2, 3, 3, 6, 2, 2, 1, 1, 1, 1, 3, 4, 2, 1, 1, 1, 2, 1, 1, 1, 1, 5, 1, 1, 1, 1, 1, 1, 2, 1, 5, 1, 4, 4, 2, 2, 1, 1, 3, 1, 1, 1]\n",
      "212.0\n",
      "Compression Ratio=2.12\n",
      "Compression is Negative\n"
     ]
    }
   ],
   "source": [
    "import numpy as np\n",
    "def binary_rand(y,n):\n",
    "    for i in range(n):\n",
    "        if(y[i]>=0.5):\n",
    "            y[i]=1\n",
    "        else:\n",
    "            y[i]=0 \n",
    "    return y\n",
    "y=np.random.rand(100)\n",
    "z=binary_rand(y,100)\n",
    "v=np.uint8(z)\n",
    "print(v,end=\"\\n\")\n",
    "def Compress_factor(v):\n",
    "    d=[]\n",
    "    m=0\n",
    "    n=len(v)\n",
    "    def compress(v,m):\n",
    "        c=0\n",
    "        k=check(v,m,c)\n",
    "        if(k<n):\n",
    "            compress(v,k) \n",
    "        else:\n",
    "            l=max(d)\n",
    "            b=np.log2(l)\n",
    "            print(d,end=\"\\n\")\n",
    "            if(np.round(len(d)*(b+1))<n):\n",
    "                x=len(d)*(np.round(b+1))\n",
    "                print(\"Compression Ratio\",end=\"=\")\n",
    "                print(x/n)\n",
    "            else:\n",
    "                x=len(d)*(np.round(b+1))\n",
    "                print(x,end=\"\\n\")\n",
    "                print(\"Compression Ratio\",end=\"=\")\n",
    "                print(x/n,end=\"\\n\")\n",
    "                print(\"Compression is Negative\")\n",
    "    def check(v,i,c):\n",
    "        if(i<n-1):\n",
    "            if(v[i+1]==v[i]):\n",
    "                c=c+1\n",
    "                k=check(v,i+1,c)\n",
    "                return k\n",
    "            else:\n",
    "                d.append(c+1)\n",
    "                return i+1\n",
    "        else:\n",
    "            d.append(c+1)\n",
    "            return i+1\n",
    "    compress(v,m)  \n",
    "Compress_factor(v)"
   ]
  },
  {
   "cell_type": "code",
   "execution_count": null,
   "metadata": {},
   "outputs": [],
   "source": []
  },
  {
   "cell_type": "code",
   "execution_count": null,
   "metadata": {},
   "outputs": [],
   "source": []
  }
 ],
 "metadata": {
  "kernelspec": {
   "display_name": "Python 3",
   "language": "python",
   "name": "python3"
  },
  "language_info": {
   "codemirror_mode": {
    "name": "ipython",
    "version": 3
   },
   "file_extension": ".py",
   "mimetype": "text/x-python",
   "name": "python",
   "nbconvert_exporter": "python",
   "pygments_lexer": "ipython3",
   "version": "3.7.1"
  }
 },
 "nbformat": 4,
 "nbformat_minor": 2
}
